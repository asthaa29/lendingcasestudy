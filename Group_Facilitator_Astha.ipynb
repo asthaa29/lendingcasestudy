{
 "cells": [
  {
   "cell_type": "markdown",
   "metadata": {},
   "source": [
    "# LENDING LOAN CASE STUDY"
   ]
  },
  {
   "cell_type": "markdown",
   "metadata": {},
   "source": [
    "### Import libraries"
   ]
  },
  {
   "cell_type": "code",
   "execution_count": 1,
   "metadata": {},
   "outputs": [],
   "source": [
    "import pandas as pd"
   ]
  },
  {
   "cell_type": "markdown",
   "metadata": {},
   "source": [
    "### Reading data"
   ]
  },
  {
   "cell_type": "code",
   "execution_count": 4,
   "metadata": {},
   "outputs": [
    {
     "name": "stderr",
     "output_type": "stream",
     "text": [
      "C:\\Users\\asthaagarwal\\AppData\\Local\\Temp\\ipykernel_60768\\4194240325.py:1: DtypeWarning: Columns (47) have mixed types. Specify dtype option on import or set low_memory=False.\n",
      "  loanDf = pd.read_csv(\"loan/loan.csv\",index_col=0)\n"
     ]
    }
   ],
   "source": [
    "loanDf = pd.read_csv(\"loan/loan.csv\",index_col=0)"
   ]
  },
  {
   "cell_type": "code",
   "execution_count": 11,
   "metadata": {},
   "outputs": [
    {
     "name": "stdout",
     "output_type": "stream",
     "text": [
      "         member_id  loan_amnt  funded_amnt  funded_amnt_inv        term  \\\n",
      "id                                                                        \n",
      "1077501    1296599       5000         5000           4975.0   36 months   \n",
      "1077430    1314167       2500         2500           2500.0   60 months   \n",
      "1077175    1313524       2400         2400           2400.0   36 months   \n",
      "1076863    1277178      10000        10000          10000.0   36 months   \n",
      "1075358    1311748       3000         3000           3000.0   60 months   \n",
      "\n",
      "        int_rate  installment grade sub_grade                 emp_title  ...  \\\n",
      "id                                                                       ...   \n",
      "1077501   10.65%       162.87     B        B2                       NaN  ...   \n",
      "1077430   15.27%        59.83     C        C4                     Ryder  ...   \n",
      "1077175   15.96%        84.33     C        C5                       NaN  ...   \n",
      "1076863   13.49%       339.31     C        C1       AIR RESOURCES BOARD  ...   \n",
      "1075358   12.69%        67.79     B        B5  University Medical Group  ...   \n",
      "\n",
      "        num_tl_90g_dpd_24m num_tl_op_past_12m  pct_tl_nvr_dlq  \\\n",
      "id                                                              \n",
      "1077501                NaN                NaN             NaN   \n",
      "1077430                NaN                NaN             NaN   \n",
      "1077175                NaN                NaN             NaN   \n",
      "1076863                NaN                NaN             NaN   \n",
      "1075358                NaN                NaN             NaN   \n",
      "\n",
      "        percent_bc_gt_75 pub_rec_bankruptcies tax_liens tot_hi_cred_lim  \\\n",
      "id                                                                        \n",
      "1077501              NaN                  0.0       0.0             NaN   \n",
      "1077430              NaN                  0.0       0.0             NaN   \n",
      "1077175              NaN                  0.0       0.0             NaN   \n",
      "1076863              NaN                  0.0       0.0             NaN   \n",
      "1075358              NaN                  0.0       0.0             NaN   \n",
      "\n",
      "        total_bal_ex_mort total_bc_limit total_il_high_credit_limit  \n",
      "id                                                                   \n",
      "1077501               NaN            NaN                        NaN  \n",
      "1077430               NaN            NaN                        NaN  \n",
      "1077175               NaN            NaN                        NaN  \n",
      "1076863               NaN            NaN                        NaN  \n",
      "1075358               NaN            NaN                        NaN  \n",
      "\n",
      "[5 rows x 110 columns]\n"
     ]
    }
   ],
   "source": [
    "print(loanDf.head())"
   ]
  },
  {
   "cell_type": "code",
   "execution_count": 10,
   "metadata": {},
   "outputs": [
    {
     "name": "stdout",
     "output_type": "stream",
     "text": [
      "<class 'pandas.core.frame.DataFrame'>\n",
      "Int64Index: 39717 entries, 1077501 to 87023\n",
      "Columns: 110 entries, member_id to total_il_high_credit_limit\n",
      "dtypes: float64(74), int64(12), object(24)\n",
      "memory usage: 33.6+ MB\n"
     ]
    }
   ],
   "source": [
    "loanDf.info()"
   ]
  },
  {
   "cell_type": "code",
   "execution_count": null,
   "metadata": {},
   "outputs": [],
   "source": []
  }
 ],
 "metadata": {
  "kernelspec": {
   "display_name": "base",
   "language": "python",
   "name": "python3"
  },
  "language_info": {
   "codemirror_mode": {
    "name": "ipython",
    "version": 3
   },
   "file_extension": ".py",
   "mimetype": "text/x-python",
   "name": "python",
   "nbconvert_exporter": "python",
   "pygments_lexer": "ipython3",
   "version": "3.11.3"
  },
  "orig_nbformat": 4
 },
 "nbformat": 4,
 "nbformat_minor": 2
}
